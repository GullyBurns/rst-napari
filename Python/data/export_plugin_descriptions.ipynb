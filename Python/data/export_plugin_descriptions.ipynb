{
 "cells": [
  {
   "cell_type": "code",
   "execution_count": 1,
   "metadata": {},
   "outputs": [],
   "source": [
    "import json\n",
    "from urllib import request\n",
    "\n",
    "def pprint(data):\n",
    "    print(json.dumps(data, indent=4, sort_keys=True))"
   ]
  },
  {
   "cell_type": "code",
   "execution_count": 2,
   "metadata": {},
   "outputs": [],
   "source": [
    "index_endpoint = \"https://api.napari-hub.org/plugins\""
   ]
  },
  {
   "cell_type": "code",
   "execution_count": 3,
   "metadata": {},
   "outputs": [],
   "source": [
    "with request.urlopen(index_endpoint) as f:\n",
    "    response = f.read()\n",
    "    index = json.loads(response)"
   ]
  },
  {
   "cell_type": "code",
   "execution_count": 5,
   "metadata": {},
   "outputs": [
    {
     "data": {
      "text/plain": [
       "82"
      ]
     },
     "execution_count": 5,
     "metadata": {},
     "output_type": "execute_result"
    }
   ],
   "source": [
    "len(index)"
   ]
  },
  {
   "cell_type": "code",
   "execution_count": 6,
   "metadata": {},
   "outputs": [],
   "source": [
    "url_template = \"https://api.napari-hub.org/plugins/{}\""
   ]
  },
  {
   "cell_type": "code",
   "execution_count": 7,
   "metadata": {},
   "outputs": [],
   "source": [
    "keys = ('summary','description')"
   ]
  },
  {
   "cell_type": "code",
   "execution_count": 29,
   "metadata": {},
   "outputs": [],
   "source": [
    "import markdown\n",
    "from bs4 import BeautifulSoup"
   ]
  },
  {
   "cell_type": "code",
   "execution_count": 30,
   "metadata": {},
   "outputs": [],
   "source": [
    "def markdown2text(md):\n",
    "    html = markdown.markdown(md)\n",
    "    gfg = BeautifulSoup(html)\n",
    "    return gfg.get_text()"
   ]
  },
  {
   "cell_type": "code",
   "execution_count": 31,
   "metadata": {},
   "outputs": [],
   "source": [
    "plugin_data = []\n",
    "\n",
    "for plugin,version in index.items():\n",
    "    with request.urlopen(url_template.format(plugin)) as f:\n",
    "        response = f.read()\n",
    "        plugin_metadata = json.loads(response)\n",
    "#     plugin_data[plugin] = plugin_metadata\n",
    "    plugin_data.append(\n",
    "        dict(\n",
    "            name=plugin,\n",
    "            summary = plugin_metadata['summary'],\n",
    "            description = markdown2text(plugin_metadata['description'])\n",
    "        )\n",
    "    )"
   ]
  },
  {
   "cell_type": "code",
   "execution_count": 32,
   "metadata": {},
   "outputs": [],
   "source": [
    "import pandas as pd"
   ]
  },
  {
   "cell_type": "code",
   "execution_count": 33,
   "metadata": {},
   "outputs": [],
   "source": [
    "df = pd.DataFrame(plugin_data)"
   ]
  },
  {
   "cell_type": "code",
   "execution_count": 34,
   "metadata": {},
   "outputs": [
    {
     "data": {
      "text/html": [
       "<div>\n",
       "<style scoped>\n",
       "    .dataframe tbody tr th:only-of-type {\n",
       "        vertical-align: middle;\n",
       "    }\n",
       "\n",
       "    .dataframe tbody tr th {\n",
       "        vertical-align: top;\n",
       "    }\n",
       "\n",
       "    .dataframe thead th {\n",
       "        text-align: right;\n",
       "    }\n",
       "</style>\n",
       "<table border=\"1\" class=\"dataframe\">\n",
       "  <thead>\n",
       "    <tr style=\"text-align: right;\">\n",
       "      <th></th>\n",
       "      <th>name</th>\n",
       "      <th>summary</th>\n",
       "      <th>description</th>\n",
       "    </tr>\n",
       "  </thead>\n",
       "  <tbody>\n",
       "    <tr>\n",
       "      <th>0</th>\n",
       "      <td>PartSeg</td>\n",
       "      <td>PartSeg is python GUI for bio imaging analysis...</td>\n",
       "      <td>PartSeg\\n\\n\\n\\n\\n\\n\\n\\n\\n\\n\\n\\n\\nPartSeg is a ...</td>\n",
       "    </tr>\n",
       "    <tr>\n",
       "      <th>1</th>\n",
       "      <td>PlatyMatch</td>\n",
       "      <td>PlatyMatch allows registration of volumetric i...</td>\n",
       "      <td>\\n\\n\\n\\n\\n\\n\\n\\n\\nRegistration of Multi-modal ...</td>\n",
       "    </tr>\n",
       "    <tr>\n",
       "      <th>2</th>\n",
       "      <td>affinder</td>\n",
       "      <td>Quickly find the affine matrix mapping one ima...</td>\n",
       "      <td>Description\\nThis GUI plugin allows you to qui...</td>\n",
       "    </tr>\n",
       "    <tr>\n",
       "      <th>3</th>\n",
       "      <td>bfio</td>\n",
       "      <td>Simple reading and writing classes for tiled t...</td>\n",
       "      <td>BioFormats Input/Output utility (bfio v2.1.9)\\...</td>\n",
       "    </tr>\n",
       "    <tr>\n",
       "      <th>4</th>\n",
       "      <td>brainglobe-napari-io</td>\n",
       "      <td>Read and write files from the BrainGlobe neuro...</td>\n",
       "      <td>napari-cellfinder\\n\\n\\n\\n\\n\\nVisualise cellfin...</td>\n",
       "    </tr>\n",
       "  </tbody>\n",
       "</table>\n",
       "</div>"
      ],
      "text/plain": [
       "                   name                                            summary  \\\n",
       "0               PartSeg  PartSeg is python GUI for bio imaging analysis...   \n",
       "1            PlatyMatch  PlatyMatch allows registration of volumetric i...   \n",
       "2              affinder  Quickly find the affine matrix mapping one ima...   \n",
       "3                  bfio  Simple reading and writing classes for tiled t...   \n",
       "4  brainglobe-napari-io  Read and write files from the BrainGlobe neuro...   \n",
       "\n",
       "                                         description  \n",
       "0  PartSeg\\n\\n\\n\\n\\n\\n\\n\\n\\n\\n\\n\\n\\nPartSeg is a ...  \n",
       "1  \\n\\n\\n\\n\\n\\n\\n\\n\\nRegistration of Multi-modal ...  \n",
       "2  Description\\nThis GUI plugin allows you to qui...  \n",
       "3  BioFormats Input/Output utility (bfio v2.1.9)\\...  \n",
       "4  napari-cellfinder\\n\\n\\n\\n\\n\\nVisualise cellfin...  "
      ]
     },
     "execution_count": 34,
     "metadata": {},
     "output_type": "execute_result"
    }
   ],
   "source": [
    "df.head()"
   ]
  },
  {
   "cell_type": "code",
   "execution_count": 35,
   "metadata": {},
   "outputs": [],
   "source": [
    "df.to_csv('~/Desktop/plugin_descriptions.csv')"
   ]
  },
  {
   "cell_type": "code",
   "execution_count": null,
   "metadata": {},
   "outputs": [],
   "source": []
  }
 ],
 "metadata": {
  "kernelspec": {
   "display_name": "Python 3",
   "language": "python",
   "name": "python3"
  },
  "language_info": {
   "codemirror_mode": {
    "name": "ipython",
    "version": 3
   },
   "file_extension": ".py",
   "mimetype": "text/x-python",
   "name": "python",
   "nbconvert_exporter": "python",
   "pygments_lexer": "ipython3",
   "version": "3.8.5"
  }
 },
 "nbformat": 4,
 "nbformat_minor": 4
}
